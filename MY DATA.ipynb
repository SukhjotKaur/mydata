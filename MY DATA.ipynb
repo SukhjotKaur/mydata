{
 "cells": [
  {
   "cell_type": "code",
   "execution_count": 1,
   "id": "295e2957",
   "metadata": {},
   "outputs": [],
   "source": [
    "import numpy as np \n",
    "import pandas as pd\n",
    "from matplotlib import pyplot as plt\n",
    "import seaborn as sns"
   ]
  },
  {
   "cell_type": "code",
   "execution_count": 36,
   "id": "173c821d",
   "metadata": {},
   "outputs": [
    {
     "name": "stdout",
     "output_type": "stream",
     "text": [
      "ACCELEROMETER X (m/s²)    float64\n",
      "ACCELEROMETER Y (m/s²)    float64\n",
      "ACCELEROMETER Z (m/s²)    float64\n",
      "SOUND LEVEL (dB)          float64\n",
      "LOCATION Latitude :       float64\n",
      "LOCATION Longitude :      float64\n",
      "LOCATION Speed ( Kmh)     float64\n",
      "LOCATION Accuracy ( m)    float64\n",
      "Label                      object\n",
      "dtype: object\n",
      "      ACCELEROMETER X (m/s²)  ACCELEROMETER Y (m/s²)  ACCELEROMETER Z (m/s²)  \\\n",
      "0                     1.6759                  2.3750                 10.3334   \n",
      "1                     1.4078                  2.7007                 12.0476   \n",
      "2                    -0.0479                  2.4995                  8.0637   \n",
      "3                    -0.9385                  1.5323                  6.8570   \n",
      "4                     0.4884                  1.0630                  8.6574   \n",
      "...                      ...                     ...                     ...   \n",
      "1377                  0.6704                 -3.8020                 -1.2929   \n",
      "1378                 -0.6704                  0.6225                  7.6614   \n",
      "1379                  0.2777                  2.1452                  7.6136   \n",
      "1380                  0.3160                  3.4093                 10.1993   \n",
      "1381                 -1.6376                  4.3862                 10.6015   \n",
      "\n",
      "      SOUND LEVEL (dB)  LOCATION Latitude :   LOCATION Longitude :   \\\n",
      "0               63.911             30.735476              76.713715   \n",
      "1               65.259             30.735476              76.713715   \n",
      "2               66.188             30.735395              76.713890   \n",
      "3               67.678             30.735395              76.713890   \n",
      "4               66.615             30.735395              76.713890   \n",
      "...                ...                   ...                    ...   \n",
      "1377            59.069             30.735636              76.713760   \n",
      "1378            56.968             30.735636              76.713760   \n",
      "1379            56.968             30.735636              76.713760   \n",
      "1380            62.552             30.735636              76.713760   \n",
      "1381            62.169             30.735636              76.713760   \n",
      "\n",
      "      LOCATION Speed ( Kmh)  LOCATION Accuracy ( m)    Label  \n",
      "0                      4.53               30.000000  Walking  \n",
      "1                      4.53               30.000000  Walking  \n",
      "2                      2.84               27.419355  Walking  \n",
      "3                      2.84               27.419355  Walking  \n",
      "4                      2.84               27.419355  Walking  \n",
      "...                     ...                     ...      ...  \n",
      "1377                   2.67               11.935484  Walking  \n",
      "1378                   2.67               11.935484  Walking  \n",
      "1379                   2.67               11.935484  Walking  \n",
      "1380                   2.67               11.935484  Walking  \n",
      "1381                   2.67               11.935484  Walking  \n",
      "\n",
      "[1382 rows x 9 columns]\n"
     ]
    }
   ],
   "source": [
    "myframe=pd.read_csv(r\"D:\\My data\\18jul2022 walk.csv\" ,sep=';',header=1)\n",
    "a=pd.DataFrame(myframe)\n",
    "a['Label']=\"Walking\"\n",
    "a.drop(['PROXIMITY (i)','LOCATION Altitude ( m)','LOCATION Altitude-google ( m)','LOCATION ORIENTATION (°)','Satellites in range','Time since start in ms ','YYYY-MO-DD HH-MI-SS_SSS'],axis=1, inplace=True)\n",
    "print(a.dtypes)\n",
    "print(a)"
   ]
  },
  {
   "cell_type": "code",
   "execution_count": 37,
   "id": "a8f73df7",
   "metadata": {},
   "outputs": [
    {
     "name": "stdout",
     "output_type": "stream",
     "text": [
      "ACCELEROMETER X (m/s?)    float64\n",
      "ACCELEROMETER Y (m/s?)    float64\n",
      "ACCELEROMETER Z (m/s?)    float64\n",
      "SOUND LEVEL (dB)          float64\n",
      "LOCATION Latitude :       float64\n",
      "LOCATION Longitude :      float64\n",
      "LOCATION Speed ( Kmh)     float64\n",
      "LOCATION Accuracy ( m)    float64\n",
      "Label                      object\n",
      "dtype: object\n",
      "     ACCELEROMETER X (m/s?)  ACCELEROMETER Y (m/s?)  ACCELEROMETER Z (m/s?)  \\\n",
      "0                    1.6568                 10.5632                 -2.1069   \n",
      "1                   -2.5474                  8.4084                  3.0454   \n",
      "2                   -6.5888                  8.2648                  1.6855   \n",
      "3                    5.0374                  2.3272                 72.6880   \n",
      "4                    0.1053                  8.0732                  5.4013   \n",
      "..                      ...                     ...                     ...   \n",
      "483                  0.0575                  8.0445                  5.2960   \n",
      "484                  0.0575                  8.0732                  5.2864   \n",
      "485                  0.4118                  7.9966                  5.3630   \n",
      "486                  0.4884                  7.9104                  5.2672   \n",
      "487                 -0.9098                  7.9871                  5.2672   \n",
      "\n",
      "     SOUND LEVEL (dB)  LOCATION Latitude :   LOCATION Longitude :   \\\n",
      "0              41.215             30.735212               76.71987   \n",
      "1              43.898             30.735212               76.71987   \n",
      "2              46.339             30.735212               76.71987   \n",
      "3              65.768             30.735212               76.71987   \n",
      "4              66.190             30.735212               76.71987   \n",
      "..                ...                   ...                    ...   \n",
      "483            46.247             30.735540               76.71360   \n",
      "484            49.846             30.735540               76.71360   \n",
      "485            48.916             30.735540               76.71360   \n",
      "486            55.760             30.735540               76.71360   \n",
      "487            48.679             30.735540               76.71360   \n",
      "\n",
      "     LOCATION Speed ( Kmh)  LOCATION Accuracy ( m)   Label  \n",
      "0                      0.0              266.129030  Laying  \n",
      "1                      0.0              266.129030  Laying  \n",
      "2                      0.0              266.129030  Laying  \n",
      "3                      0.0              266.129030  Laying  \n",
      "4                      0.0              266.129030  Laying  \n",
      "..                     ...                     ...     ...  \n",
      "483                    0.0               68.632256  Laying  \n",
      "484                    0.0               68.632256  Laying  \n",
      "485                    0.0               68.632256  Laying  \n",
      "486                    0.0               68.632256  Laying  \n",
      "487                    0.0               68.632256  Laying  \n",
      "\n",
      "[488 rows x 9 columns]\n"
     ]
    }
   ],
   "source": [
    "thisframe=pd.read_csv(r\"D:\\My data\\Laying.csv\" ,sep=';',header=1)\n",
    "b=pd.DataFrame(thisframe)\n",
    "b[\"Label\"]='Laying'\n",
    "b['LOCATION Speed ( Kmh)']=0.0\n",
    "b.drop(['PROXIMITY (i)','LOCATION Altitude ( m)','LOCATION Altitude-google ( m)','LOCATION ORIENTATION (?)','Satellites in range','Time since start in ms ','YYYY-MO-DD HH-MI-SS_SSS'],axis=1,inplace=True)\n",
    "print(b.dtypes)\n",
    "print(b)"
   ]
  },
  {
   "cell_type": "code",
   "execution_count": 38,
   "id": "2534320b",
   "metadata": {},
   "outputs": [
    {
     "name": "stdout",
     "output_type": "stream",
     "text": [
      "ACCELEROMETER X (m/s?)    float64\n",
      "ACCELEROMETER Y (m/s?)    float64\n",
      "ACCELEROMETER Z (m/s?)    float64\n",
      "SOUND LEVEL (dB)          float64\n",
      "LOCATION Latitude :       float64\n",
      "LOCATION Longitude :      float64\n",
      "LOCATION Speed ( Kmh)     float64\n",
      "LOCATION Accuracy ( m)    float64\n",
      "Label                      object\n",
      "dtype: object\n",
      "     ACCELEROMETER X (m/s?)  ACCELEROMETER Y (m/s?)  ACCELEROMETER Z (m/s?)  \\\n",
      "0                    1.1971                  1.7430                  9.0022   \n",
      "1                    1.0343                  1.7334                  9.5577   \n",
      "2                    0.7087                  1.4269                  9.6343   \n",
      "3                    0.7949                  1.3503                  9.5481   \n",
      "4                   -0.8045                  1.0918                 10.3717   \n",
      "..                      ...                     ...                     ...   \n",
      "345                  0.2203                 -0.2203                  9.9120   \n",
      "346                  0.2394                 -0.2011                  9.6822   \n",
      "347                  5.8419                 -5.3534                 10.9654   \n",
      "348                  2.4900                  1.6376                  6.8091   \n",
      "349                  4.2713                  0.1149                 10.1323   \n",
      "\n",
      "     SOUND LEVEL (dB)  LOCATION Latitude :   LOCATION Longitude :   \\\n",
      "0              59.580             30.748146               76.75698   \n",
      "1              60.052             30.748146               76.75698   \n",
      "2              58.683             30.748146               76.75698   \n",
      "3              58.045             30.748146               76.75698   \n",
      "4              59.871             30.748146               76.75698   \n",
      "..                ...                   ...                    ...   \n",
      "345            53.959             30.748760               76.75693   \n",
      "346            52.880             30.748750               76.75693   \n",
      "347            57.265             30.748750               76.75693   \n",
      "348            57.061             30.748728               76.75693   \n",
      "349            57.442             30.748728               76.75693   \n",
      "\n",
      "     LOCATION Speed ( Kmh)  LOCATION Accuracy ( m)    Label  \n",
      "0                      0.0               53.590324  Sitting  \n",
      "1                      0.0               53.590324  Sitting  \n",
      "2                      0.0               53.590324  Sitting  \n",
      "3                      0.0               53.590324  Sitting  \n",
      "4                      0.0               53.590324  Sitting  \n",
      "..                     ...                     ...      ...  \n",
      "345                    0.0               22.903225  Sitting  \n",
      "346                    0.0               23.225805  Sitting  \n",
      "347                    0.0               23.225805  Sitting  \n",
      "348                    0.0               23.225805  Sitting  \n",
      "349                    0.0               23.225805  Sitting  \n",
      "\n",
      "[350 rows x 9 columns]\n"
     ]
    }
   ],
   "source": [
    "nextone=pd.read_csv(r\"D:\\My data\\Sitting 20jul.csv\" ,sep=';',header=1)\n",
    "c=pd.DataFrame(nextone)\n",
    "c['Label']='Sitting'\n",
    "c['LOCATION Speed ( Kmh)']=0.0\n",
    "c.drop(['PROXIMITY (i)','LOCATION Altitude ( m)','LOCATION Altitude-google ( m)','Satellites in range','LOCATION ORIENTATION (?)','Time since start in ms ','YYYY-MO-DD HH-MI-SS_SSS'],axis=1,inplace=True)\n",
    "print(c.dtypes)\n",
    "print(c)"
   ]
  },
  {
   "cell_type": "code",
   "execution_count": 39,
   "id": "2c7eec99",
   "metadata": {},
   "outputs": [
    {
     "name": "stdout",
     "output_type": "stream",
     "text": [
      "ACCELEROMETER X (m/s?)    float64\n",
      "ACCELEROMETER Y (m/s?)    float64\n",
      "ACCELEROMETER Z (m/s?)    float64\n",
      "SOUND LEVEL (dB)          float64\n",
      "LOCATION Latitude :       float64\n",
      "LOCATION Longitude :      float64\n",
      "LOCATION Speed ( Kmh)     float64\n",
      "LOCATION Accuracy ( m)    float64\n",
      "Label                      object\n",
      "dtype: object\n",
      "     ACCELEROMETER X (m/s?)  ACCELEROMETER Y (m/s?)  ACCELEROMETER Z (m/s?)  \\\n",
      "0                   -1.3120                  2.7869                  9.5864   \n",
      "1                   -1.2258                  2.3272                  9.2416   \n",
      "2                   -1.1684                  2.2218                  9.4236   \n",
      "3                   -1.1779                  2.2410                  9.3182   \n",
      "4                   -1.2929                  2.2505                  9.3087   \n",
      "..                      ...                     ...                     ...   \n",
      "96                   1.9728                  3.7062                  8.7245   \n",
      "97                   1.9824                  3.7254                  8.6957   \n",
      "98                   1.9465                  3.7302                  8.7939   \n",
      "99                   1.9656                  3.6703                  8.7508   \n",
      "100                  1.8100                  3.7541                  8.7628   \n",
      "\n",
      "     SOUND LEVEL (dB)  LOCATION Latitude :   LOCATION Longitude :   \\\n",
      "0              60.521             30.748116               76.75704   \n",
      "1              66.059             30.748116               76.75704   \n",
      "2              55.328             30.748116               76.75704   \n",
      "3              55.783             30.748116               76.75704   \n",
      "4              58.756             30.748116               76.75704   \n",
      "..                ...                   ...                    ...   \n",
      "96             60.099             30.748116               76.75704   \n",
      "97             62.029             30.748116               76.75704   \n",
      "98             57.722             30.748116               76.75704   \n",
      "99             58.642             30.748116               76.75704   \n",
      "100            60.590             30.748116               76.75704   \n",
      "\n",
      "     LOCATION Speed ( Kmh)  LOCATION Accuracy ( m)    Label  \n",
      "0                      0.0               127.74193  Sitting  \n",
      "1                      0.0               127.74193  Sitting  \n",
      "2                      0.0               127.74193  Sitting  \n",
      "3                      0.0               127.74193  Sitting  \n",
      "4                      0.0               127.74193  Sitting  \n",
      "..                     ...                     ...      ...  \n",
      "96                     0.0               127.74193  Sitting  \n",
      "97                     0.0               127.74193  Sitting  \n",
      "98                     0.0               127.74193  Sitting  \n",
      "99                     0.0               127.74193  Sitting  \n",
      "100                    0.0               127.74193  Sitting  \n",
      "\n",
      "[101 rows x 9 columns]\n"
     ]
    }
   ],
   "source": [
    "ben=pd.read_csv(r\"D:\\My data\\Sitting 19.csv\" ,sep=';',header=1)\n",
    "d=pd.DataFrame(ben)\n",
    "d['Label']='Sitting'\n",
    "d['LOCATION Speed ( Kmh)']=0.0\n",
    "d.drop(['PROXIMITY (i)','LOCATION Altitude ( m)','LOCATION Altitude-google ( m)','LOCATION ORIENTATION (?)','Satellites in range','Time since start in ms ','YYYY-MO-DD HH-MI-SS_SSS'],axis=1,inplace=True)\n",
    "print(d.dtypes)\n",
    "print(d)"
   ]
  },
  {
   "cell_type": "code",
   "execution_count": 40,
   "id": "e239e71a",
   "metadata": {},
   "outputs": [
    {
     "name": "stdout",
     "output_type": "stream",
     "text": [
      "ACCELEROMETER X (m/s?)    float64\n",
      "ACCELEROMETER Y (m/s?)    float64\n",
      "ACCELEROMETER Z (m/s?)    float64\n",
      "SOUND LEVEL (dB)          float64\n",
      "LOCATION Latitude :       float64\n",
      "LOCATION Longitude :      float64\n",
      "LOCATION Speed ( Kmh)     float64\n",
      "LOCATION Accuracy ( m)    float64\n",
      "Label                      object\n",
      "dtype: object\n",
      "     ACCELEROMETER X (m/s?)  ACCELEROMETER Y (m/s?)  ACCELEROMETER Z (m/s?)  \\\n",
      "0                    0.0479                  1.4174                 10.0748   \n",
      "1                    0.2011                  1.5227                  9.4427   \n",
      "2                    0.1820                  1.5514                  9.3661   \n",
      "3                    0.1915                  1.5419                  9.5098   \n",
      "4                    0.1053                  1.4940                  9.4140   \n",
      "..                      ...                     ...                     ...   \n",
      "213                 -0.2969                  1.0822                  9.2129   \n",
      "214                 -0.3065                  3.7924                 10.2568   \n",
      "215                  2.1069                 -0.5459                  6.1100   \n",
      "216                  2.6432                  3.3615                  7.9966   \n",
      "217                  2.5474                  3.8978                  9.1746   \n",
      "\n",
      "     SOUND LEVEL (dB)  LOCATION Latitude :   LOCATION Longitude :   \\\n",
      "0              57.424             30.735552               76.71355   \n",
      "1              69.784             30.735552               76.71355   \n",
      "2              70.496             30.735552               76.71355   \n",
      "3              67.628             30.735552               76.71355   \n",
      "4              62.967             30.735552               76.71355   \n",
      "..                ...                   ...                    ...   \n",
      "213            68.473             30.735552               76.71355   \n",
      "214            71.726             30.735552               76.71355   \n",
      "215            63.694             30.735552               76.71355   \n",
      "216            55.307             30.735552               76.71355   \n",
      "217            70.137             30.735552               76.71355   \n",
      "\n",
      "     LOCATION Speed ( Kmh)  LOCATION Accuracy ( m)    Label  \n",
      "0                      0.0                56.84516  Sitting  \n",
      "1                      0.0                56.84516  Sitting  \n",
      "2                      0.0                56.84516  Sitting  \n",
      "3                      0.0                56.84516  Sitting  \n",
      "4                      0.0                56.84516  Sitting  \n",
      "..                     ...                     ...      ...  \n",
      "213                    0.0                56.84516  Sitting  \n",
      "214                    0.0                56.84516  Sitting  \n",
      "215                    0.0                56.84516  Sitting  \n",
      "216                    0.0                56.84516  Sitting  \n",
      "217                    0.0                56.84516  Sitting  \n",
      "\n",
      "[218 rows x 9 columns]\n"
     ]
    }
   ],
   "source": [
    "ahead=pd.read_csv(r\"D:\\My data\\Sitting 25.csv\" ,sep=';',header=1)\n",
    "e=pd.DataFrame(ahead)\n",
    "e['Label']='Sitting'\n",
    "e['LOCATION Speed ( Kmh)']=0.0\n",
    "e.drop(['PROXIMITY (i)','LOCATION Altitude ( m)','LOCATION Altitude-google ( m)','LOCATION ORIENTATION (?)','Satellites in range','Time since start in ms ','YYYY-MO-DD HH-MI-SS_SSS'],axis=1,inplace=True)\n",
    "print(e.dtypes)\n",
    "print(e)"
   ]
  },
  {
   "cell_type": "code",
   "execution_count": 41,
   "id": "c929f733",
   "metadata": {},
   "outputs": [
    {
     "name": "stdout",
     "output_type": "stream",
     "text": [
      "ACCELEROMETER X (m/s²)    float64\n",
      "ACCELEROMETER Y (m/s²)    float64\n",
      "ACCELEROMETER Z (m/s²)    float64\n",
      "SOUND LEVEL (dB)          float64\n",
      "LOCATION Latitude :       float64\n",
      "LOCATION Longitude :      float64\n",
      "LOCATION Speed ( Kmh)     float64\n",
      "LOCATION Accuracy ( m)    float64\n",
      "Label                      object\n",
      "dtype: object\n",
      "     ACCELEROMETER X (m/s²)  ACCELEROMETER Y (m/s²)  ACCELEROMETER Z (m/s²)  \\\n",
      "0                   -0.8332                  2.5091                  9.2512   \n",
      "1                    0.5842                  2.2889                  9.4332   \n",
      "2                    1.9249                  2.1835                  8.9064   \n",
      "3                    2.6145                  2.2505                  9.2225   \n",
      "4                    2.6145                  2.3463                  8.6766   \n",
      "..                      ...                     ...                     ...   \n",
      "758                  1.3503                  4.8842                  8.3414   \n",
      "759                  0.5555                  4.4149                  8.7340   \n",
      "760                  0.6895                  4.2617                  8.4755   \n",
      "761                  0.7374                  4.1468                  8.5904   \n",
      "762                  1.3120                  4.4532                  8.3510   \n",
      "\n",
      "     SOUND LEVEL (dB)  LOCATION Latitude :   LOCATION Longitude :   \\\n",
      "0              49.499             30.748340              76.757350   \n",
      "1              59.805             30.748340              76.757350   \n",
      "2              55.504             30.748152              76.757355   \n",
      "3              54.171             30.748152              76.757355   \n",
      "4              53.514             30.748152              76.757350   \n",
      "..                ...                   ...                    ...   \n",
      "758            39.800             30.745289              76.754200   \n",
      "759            39.848             30.745289              76.754200   \n",
      "760            40.043             30.745289              76.754200   \n",
      "761            40.398             30.745289              76.754200   \n",
      "762            40.305             30.745289              76.754200   \n",
      "\n",
      "     LOCATION Speed ( Kmh)  LOCATION Accuracy ( m)    Label  \n",
      "0                     3.72               37.096775  Walking  \n",
      "1                     3.72               37.096775  Walking  \n",
      "2                     3.89               30.967745  Walking  \n",
      "3                     3.89               30.967745  Walking  \n",
      "4                     3.65               26.129032  Walking  \n",
      "..                     ...                     ...      ...  \n",
      "758                   7.59                5.161290  Walking  \n",
      "759                   7.59                5.161290  Walking  \n",
      "760                   7.59                5.161290  Walking  \n",
      "761                   7.59                5.161290  Walking  \n",
      "762                   7.59                5.161290  Walking  \n",
      "\n",
      "[763 rows x 9 columns]\n"
     ]
    }
   ],
   "source": [
    "mnc=pd.read_csv(r\"D:\\My data\\Walking 20 jul.csv\" ,sep=';',header=1)\n",
    "f=pd.DataFrame(mnc)\n",
    "f['Label']='Walking'\n",
    "f.drop(['PROXIMITY (i)','LOCATION Altitude ( m)','LOCATION Altitude-google ( m)','Satellites in range','LOCATION ORIENTATION (°)','Time since start in ms ','YYYY-MO-DD HH-MI-SS_SSS'],axis=1,inplace=True)\n",
    "print(f.dtypes)\n",
    "print(f)"
   ]
  },
  {
   "cell_type": "code",
   "execution_count": 42,
   "id": "e8055827",
   "metadata": {},
   "outputs": [
    {
     "name": "stdout",
     "output_type": "stream",
     "text": [
      "ACCELEROMETER X (m/s?)    float64\n",
      "ACCELEROMETER Y (m/s?)    float64\n",
      "ACCELEROMETER Z (m/s?)    float64\n",
      "SOUND LEVEL (dB)          float64\n",
      "LOCATION Latitude :       float64\n",
      "LOCATION Longitude :      float64\n",
      "LOCATION Speed ( Kmh)     float64\n",
      "LOCATION Accuracy ( m)    float64\n",
      "Label                      object\n",
      "dtype: object\n",
      "     ACCELEROMETER X (m/s?)  ACCELEROMETER Y (m/s?)  ACCELEROMETER Z (m/s?)  \\\n",
      "0                   -1.3120                  2.7869                  9.5864   \n",
      "1                   -1.2258                  2.3272                  9.2416   \n",
      "2                   -1.1684                  2.2218                  9.4236   \n",
      "3                   -1.1779                  2.2410                  9.3182   \n",
      "4                   -1.2929                  2.2505                  9.3087   \n",
      "..                      ...                     ...                     ...   \n",
      "96                   1.9728                  3.7062                  8.7245   \n",
      "97                   1.9824                  3.7254                  8.6957   \n",
      "98                   1.9465                  3.7302                  8.7939   \n",
      "99                   1.9656                  3.6703                  8.7508   \n",
      "100                  1.8100                  3.7541                  8.7628   \n",
      "\n",
      "     SOUND LEVEL (dB)  LOCATION Latitude :   LOCATION Longitude :   \\\n",
      "0              60.521             30.748116               76.75704   \n",
      "1              66.059             30.748116               76.75704   \n",
      "2              55.328             30.748116               76.75704   \n",
      "3              55.783             30.748116               76.75704   \n",
      "4              58.756             30.748116               76.75704   \n",
      "..                ...                   ...                    ...   \n",
      "96             60.099             30.748116               76.75704   \n",
      "97             62.029             30.748116               76.75704   \n",
      "98             57.722             30.748116               76.75704   \n",
      "99             58.642             30.748116               76.75704   \n",
      "100            60.590             30.748116               76.75704   \n",
      "\n",
      "     LOCATION Speed ( Kmh)  LOCATION Accuracy ( m)    Label  \n",
      "0                      0.0               127.74193  Sitting  \n",
      "1                      0.0               127.74193  Sitting  \n",
      "2                      0.0               127.74193  Sitting  \n",
      "3                      0.0               127.74193  Sitting  \n",
      "4                      0.0               127.74193  Sitting  \n",
      "..                     ...                     ...      ...  \n",
      "96                     0.0               127.74193  Sitting  \n",
      "97                     0.0               127.74193  Sitting  \n",
      "98                     0.0               127.74193  Sitting  \n",
      "99                     0.0               127.74193  Sitting  \n",
      "100                    0.0               127.74193  Sitting  \n",
      "\n",
      "[101 rows x 9 columns]\n"
     ]
    }
   ],
   "source": [
    "asp=pd.read_csv(r\"D:\\My data\\Sitting 19.csv\" ,sep=';',header=1)\n",
    "g=pd.DataFrame(asp)\n",
    "g['Label']='Sitting'\n",
    "g['LOCATION Speed ( Kmh)']=0.0\n",
    "g.drop(['PROXIMITY (i)','LOCATION Altitude ( m)','LOCATION Altitude-google ( m)','LOCATION ORIENTATION (?)','Satellites in range','Time since start in ms ','YYYY-MO-DD HH-MI-SS_SSS'],axis=1,inplace=True)\n",
    "print(g.dtypes)\n",
    "print(g)"
   ]
  },
  {
   "cell_type": "code",
   "execution_count": 43,
   "id": "5117fc7e",
   "metadata": {},
   "outputs": [
    {
     "name": "stdout",
     "output_type": "stream",
     "text": [
      "     ACCELEROMETER X (m/s?)  ACCELEROMETER Y (m/s?)  ACCELEROMETER Z (m/s?)  \\\n",
      "0                   -0.7661                  1.7621                 10.3334   \n",
      "1                    0.5076                  2.7773                  8.7053   \n",
      "2                    0.3567                  2.6839                  9.2057   \n",
      "3                    0.4046                  2.6671                  9.2775   \n",
      "4                    0.0383                  3.1891                  8.9256   \n",
      "..                      ...                     ...                     ...   \n",
      "366                  0.2777                  0.2969                  9.4236   \n",
      "367                  0.5076                  0.3065                  9.7971   \n",
      "368                  0.4788                  0.1915                  9.9695   \n",
      "369                  0.4788                  0.2777                  9.7013   \n",
      "370                  0.4214                  0.2490                  9.8354   \n",
      "\n",
      "     SOUND LEVEL (dB)  LOCATION Latitude :   LOCATION Longitude :   \\\n",
      "0              46.545             30.735537               76.71353   \n",
      "1              46.054             30.735537               76.71353   \n",
      "2              46.885             30.735537               76.71353   \n",
      "3              47.663             30.735537               76.71353   \n",
      "4              46.687             30.735537               76.71353   \n",
      "..                ...                   ...                    ...   \n",
      "366            70.618             30.735537               76.71353   \n",
      "367            71.131             30.735537               76.71353   \n",
      "368            68.970             30.735537               76.71353   \n",
      "369            71.991             30.735537               76.71353   \n",
      "370            68.358             30.735537               76.71353   \n",
      "\n",
      "     LOCATION Speed ( Kmh)  LOCATION Accuracy ( m)     Label  \n",
      "0                      0.0                64.51613  Standing  \n",
      "1                      0.0                64.51613  Standing  \n",
      "2                      0.0                64.51613  Standing  \n",
      "3                      0.0                64.51613  Standing  \n",
      "4                      0.0                64.51613  Standing  \n",
      "..                     ...                     ...       ...  \n",
      "366                    0.0                64.51613  Standing  \n",
      "367                    0.0                64.51613  Standing  \n",
      "368                    0.0                64.51613  Standing  \n",
      "369                    0.0                64.51613  Standing  \n",
      "370                    0.0                64.51613  Standing  \n",
      "\n",
      "[371 rows x 9 columns]\n"
     ]
    }
   ],
   "source": [
    "doo=pd.read_csv(r\"D:\\My data\\Standing 25 second.csv\" ,sep=';',header=1)\n",
    "h=pd.DataFrame(doo)\n",
    "h['Label']='Standing'\n",
    "h['LOCATION Speed ( Kmh)']=0.0\n",
    "h.drop(['PROXIMITY (i)','LOCATION Altitude ( m)','LOCATION Altitude-google ( m)','LOCATION ORIENTATION (?)','Satellites in range','Time since start in ms ','YYYY-MO-DD HH-MI-SS_SSS'],axis=1,inplace=True)\n",
    "h.dtypes\n",
    "print(h)"
   ]
  },
  {
   "cell_type": "code",
   "execution_count": 44,
   "id": "4907058c",
   "metadata": {},
   "outputs": [
    {
     "name": "stdout",
     "output_type": "stream",
     "text": [
      "ACCELEROMETER X (m/s?)    float64\n",
      "ACCELEROMETER Y (m/s?)    float64\n",
      "ACCELEROMETER Z (m/s?)    float64\n",
      "SOUND LEVEL (dB)          float64\n",
      "LOCATION Latitude :       float64\n",
      "LOCATION Longitude :      float64\n",
      "LOCATION Speed ( Kmh)     float64\n",
      "LOCATION Accuracy ( m)    float64\n",
      "Label                      object\n",
      "dtype: object\n",
      "     ACCELEROMETER X (m/s?)  ACCELEROMETER Y (m/s?)  ACCELEROMETER Z (m/s?)  \\\n",
      "0                   -0.7661                  1.7621                 10.3334   \n",
      "1                    0.5076                  2.7773                  8.7053   \n",
      "2                    0.3567                  2.6839                  9.2057   \n",
      "3                    0.4046                  2.6671                  9.2775   \n",
      "4                    0.0383                  3.1891                  8.9256   \n",
      "..                      ...                     ...                     ...   \n",
      "366                  0.2777                  0.2969                  9.4236   \n",
      "367                  0.5076                  0.3065                  9.7971   \n",
      "368                  0.4788                  0.1915                  9.9695   \n",
      "369                  0.4788                  0.2777                  9.7013   \n",
      "370                  0.4214                  0.2490                  9.8354   \n",
      "\n",
      "     SOUND LEVEL (dB)  LOCATION Latitude :   LOCATION Longitude :   \\\n",
      "0              46.545             30.735537               76.71353   \n",
      "1              46.054             30.735537               76.71353   \n",
      "2              46.885             30.735537               76.71353   \n",
      "3              47.663             30.735537               76.71353   \n",
      "4              46.687             30.735537               76.71353   \n",
      "..                ...                   ...                    ...   \n",
      "366            70.618             30.735537               76.71353   \n",
      "367            71.131             30.735537               76.71353   \n",
      "368            68.970             30.735537               76.71353   \n",
      "369            71.991             30.735537               76.71353   \n",
      "370            68.358             30.735537               76.71353   \n",
      "\n",
      "     LOCATION Speed ( Kmh)  LOCATION Accuracy ( m)     Label  \n",
      "0                      0.0                64.51613  Standing  \n",
      "1                      0.0                64.51613  Standing  \n",
      "2                      0.0                64.51613  Standing  \n",
      "3                      0.0                64.51613  Standing  \n",
      "4                      0.0                64.51613  Standing  \n",
      "..                     ...                     ...       ...  \n",
      "366                    0.0                64.51613  Standing  \n",
      "367                    0.0                64.51613  Standing  \n",
      "368                    0.0                64.51613  Standing  \n",
      "369                    0.0                64.51613  Standing  \n",
      "370                    0.0                64.51613  Standing  \n",
      "\n",
      "[371 rows x 9 columns]\n"
     ]
    }
   ],
   "source": [
    "do=pd.read_csv(r\"D:\\My data\\Standing 25.csv\" ,sep=';',header=1)\n",
    "i=pd.DataFrame(doo)\n",
    "i['Label']='Standing'\n",
    "i['LOCATION Speed ( Kmh)']=0.0\n",
    "i.drop(['PROXIMITY (i)','LOCATION Altitude ( m)','LOCATION Altitude-google ( m)','LOCATION ORIENTATION (?)','Satellites in range','Time since start in ms ','YYYY-MO-DD HH-MI-SS_SSS'],axis=1,inplace=True)\n",
    "print(i.dtypes)\n",
    "print(i)"
   ]
  },
  {
   "cell_type": "code",
   "execution_count": 45,
   "id": "fda18add",
   "metadata": {},
   "outputs": [
    {
     "name": "stdout",
     "output_type": "stream",
     "text": [
      "ACCELEROMETER X (m/s?)    float64\n",
      "ACCELEROMETER Y (m/s?)    float64\n",
      "ACCELEROMETER Z (m/s?)    float64\n",
      "SOUND LEVEL (dB)          float64\n",
      "LOCATION Latitude :       float64\n",
      "LOCATION Longitude :      float64\n",
      "LOCATION Speed ( Kmh)     float64\n",
      "LOCATION Accuracy ( m)    float64\n",
      "Label                      object\n",
      "dtype: object\n",
      "     ACCELEROMETER X (m/s?)  ACCELEROMETER Y (m/s?)  ACCELEROMETER Z (m/s?)  \\\n",
      "0                   -0.7661                  1.7621                 10.3334   \n",
      "1                    0.5076                  2.7773                  8.7053   \n",
      "2                    0.3567                  2.6839                  9.2057   \n",
      "3                    0.4046                  2.6671                  9.2775   \n",
      "4                    0.0383                  3.1891                  8.9256   \n",
      "..                      ...                     ...                     ...   \n",
      "366                  0.2777                  0.2969                  9.4236   \n",
      "367                  0.5076                  0.3065                  9.7971   \n",
      "368                  0.4788                  0.1915                  9.9695   \n",
      "369                  0.4788                  0.2777                  9.7013   \n",
      "370                  0.4214                  0.2490                  9.8354   \n",
      "\n",
      "     SOUND LEVEL (dB)  LOCATION Latitude :   LOCATION Longitude :   \\\n",
      "0              46.545             30.735537               76.71353   \n",
      "1              46.054             30.735537               76.71353   \n",
      "2              46.885             30.735537               76.71353   \n",
      "3              47.663             30.735537               76.71353   \n",
      "4              46.687             30.735537               76.71353   \n",
      "..                ...                   ...                    ...   \n",
      "366            70.618             30.735537               76.71353   \n",
      "367            71.131             30.735537               76.71353   \n",
      "368            68.970             30.735537               76.71353   \n",
      "369            71.991             30.735537               76.71353   \n",
      "370            68.358             30.735537               76.71353   \n",
      "\n",
      "     LOCATION Speed ( Kmh)  LOCATION Accuracy ( m)     Label  \n",
      "0                      0.0                64.51613  Standing  \n",
      "1                      0.0                64.51613  Standing  \n",
      "2                      0.0                64.51613  Standing  \n",
      "3                      0.0                64.51613  Standing  \n",
      "4                      0.0                64.51613  Standing  \n",
      "..                     ...                     ...       ...  \n",
      "366                    0.0                64.51613  Standing  \n",
      "367                    0.0                64.51613  Standing  \n",
      "368                    0.0                64.51613  Standing  \n",
      "369                    0.0                64.51613  Standing  \n",
      "370                    0.0                64.51613  Standing  \n",
      "\n",
      "[371 rows x 9 columns]\n"
     ]
    }
   ],
   "source": [
    "post=pd.read_csv(r\"D:\\My data\\Standing 25 second.csv\" ,sep=';',header=1)\n",
    "j=pd.DataFrame(doo)\n",
    "j['Label']='Standing'\n",
    "j['LOCATION Speed ( Kmh)']=0.0\n",
    "j.drop(['PROXIMITY (i)','LOCATION Altitude ( m)','LOCATION Altitude-google ( m)','LOCATION ORIENTATION (?)','Satellites in range','Time since start in ms ','YYYY-MO-DD HH-MI-SS_SSS'],axis=1,inplace=True)\n",
    "print(j.dtypes)\n",
    "print(j)"
   ]
  },
  {
   "cell_type": "code",
   "execution_count": 46,
   "id": "47f77b5a",
   "metadata": {},
   "outputs": [
    {
     "name": "stdout",
     "output_type": "stream",
     "text": [
      "     ACCELEROMETER X (m/s²)  ACCELEROMETER Y (m/s²)  ACCELEROMETER Z (m/s²)  \\\n",
      "0                    1.6759                  2.3750                 10.3334   \n",
      "1                    1.4078                  2.7007                 12.0476   \n",
      "2                   -0.0479                  2.4995                  8.0637   \n",
      "3                   -0.9385                  1.5323                  6.8570   \n",
      "4                    0.4884                  1.0630                  8.6574   \n",
      "..                      ...                     ...                     ...   \n",
      "366                     NaN                     NaN                     NaN   \n",
      "367                     NaN                     NaN                     NaN   \n",
      "368                     NaN                     NaN                     NaN   \n",
      "369                     NaN                     NaN                     NaN   \n",
      "370                     NaN                     NaN                     NaN   \n",
      "\n",
      "     SOUND LEVEL (dB)  LOCATION Latitude :   LOCATION Longitude :   \\\n",
      "0              63.911             30.735476              76.713715   \n",
      "1              65.259             30.735476              76.713715   \n",
      "2              66.188             30.735395              76.713890   \n",
      "3              67.678             30.735395              76.713890   \n",
      "4              66.615             30.735395              76.713890   \n",
      "..                ...                   ...                    ...   \n",
      "366            70.618             30.735537              76.713530   \n",
      "367            71.131             30.735537              76.713530   \n",
      "368            68.970             30.735537              76.713530   \n",
      "369            71.991             30.735537              76.713530   \n",
      "370            68.358             30.735537              76.713530   \n",
      "\n",
      "     LOCATION Speed ( Kmh)  LOCATION Accuracy ( m)     Label  \\\n",
      "0                     4.53               30.000000   Walking   \n",
      "1                     4.53               30.000000   Walking   \n",
      "2                     2.84               27.419355   Walking   \n",
      "3                     2.84               27.419355   Walking   \n",
      "4                     2.84               27.419355   Walking   \n",
      "..                     ...                     ...       ...   \n",
      "366                   0.00               64.516130  Standing   \n",
      "367                   0.00               64.516130  Standing   \n",
      "368                   0.00               64.516130  Standing   \n",
      "369                   0.00               64.516130  Standing   \n",
      "370                   0.00               64.516130  Standing   \n",
      "\n",
      "     ACCELEROMETER X (m/s?)  ACCELEROMETER Y (m/s?)  ACCELEROMETER Z (m/s?)  \n",
      "0                       NaN                     NaN                     NaN  \n",
      "1                       NaN                     NaN                     NaN  \n",
      "2                       NaN                     NaN                     NaN  \n",
      "3                       NaN                     NaN                     NaN  \n",
      "4                       NaN                     NaN                     NaN  \n",
      "..                      ...                     ...                     ...  \n",
      "366                  0.2777                  0.2969                  9.4236  \n",
      "367                  0.5076                  0.3065                  9.7971  \n",
      "368                  0.4788                  0.1915                  9.9695  \n",
      "369                  0.4788                  0.2777                  9.7013  \n",
      "370                  0.4214                  0.2490                  9.8354  \n",
      "\n",
      "[4145 rows x 12 columns]\n"
     ]
    }
   ],
   "source": [
    "full=[a,b,c,d,e,f,g,i,j]\n",
    "data=pd.concat(full)\n",
    "print(data)"
   ]
  },
  {
   "cell_type": "code",
   "execution_count": 47,
   "id": "8b2b386d",
   "metadata": {},
   "outputs": [
    {
     "name": "stdout",
     "output_type": "stream",
     "text": [
      "['Walking' 'Laying' 'Sitting' 'Standing']\n"
     ]
    },
    {
     "data": {
      "image/png": "[encoded data removed]",
      "text/plain": [
       "<Figure size 864x432 with 1 Axes>"
      ]
     },
     "metadata": {
      "needs_background": "light"
     },
     "output_type": "display_data"
    }
   ],
   "source": [
    "lemme=data['Label'].unique()\n",
    "print(lemme)\n",
    "plt.figure(figsize=(12,6))\n",
    "axis=sns.countplot(x=\"Label\",data=data)\n",
    "plt.xticks(x=data['Label'],rotation='vertical')\n",
    "plt.show()"
   ]
  },
  {
   "cell_type": "code",
   "execution_count": 48,
   "id": "c64988ca",
   "metadata": {},
   "outputs": [
    {
     "name": "stdout",
     "output_type": "stream",
     "text": [
      "(4145, 11) (4145,)\n"
     ]
    }
   ],
   "source": [
    "x=pd.DataFrame(data.drop(['Label'],axis=1))\n",
    "y=data.Label.values.astype(object)\n",
    "print(x.shape,y.shape)"
   ]
  },
  {
   "cell_type": "code",
   "execution_count": 49,
   "id": "ba7db2fe",
   "metadata": {},
   "outputs": [
    {
     "name": "stdout",
     "output_type": "stream",
     "text": [
      "<class 'pandas.core.frame.DataFrame'>\n",
      "Int64Index: 4145 entries, 0 to 370\n",
      "Data columns (total 11 columns):\n",
      " #   Column                  Non-Null Count  Dtype  \n",
      "---  ------                  --------------  -----  \n",
      " 0   ACCELEROMETER X (m/s²)  2145 non-null   float64\n",
      " 1   ACCELEROMETER Y (m/s²)  2145 non-null   float64\n",
      " 2   ACCELEROMETER Z (m/s²)  2145 non-null   float64\n",
      " 3   SOUND LEVEL (dB)        4145 non-null   float64\n",
      " 4   LOCATION Latitude :     4145 non-null   float64\n",
      " 5   LOCATION Longitude :    4145 non-null   float64\n",
      " 6   LOCATION Speed ( Kmh)   4139 non-null   float64\n",
      " 7   LOCATION Accuracy ( m)  4145 non-null   float64\n",
      " 8   ACCELEROMETER X (m/s?)  2000 non-null   float64\n",
      " 9   ACCELEROMETER Y (m/s?)  2000 non-null   float64\n",
      " 10  ACCELEROMETER Z (m/s?)  2000 non-null   float64\n",
      "dtypes: float64(11)\n",
      "memory usage: 388.6 KB\n",
      "None\n"
     ]
    }
   ],
   "source": [
    "print(x.info())"
   ]
  },
  {
   "cell_type": "code",
   "execution_count": 50,
   "id": "12d91082",
   "metadata": {},
   "outputs": [],
   "source": [
    "from sklearn import preprocessing\n",
    "encoder=preprocessing.LabelEncoder()"
   ]
  },
  {
   "cell_type": "code",
   "execution_count": 51,
   "id": "bf0cafc2",
   "metadata": {},
   "outputs": [
    {
     "name": "stdout",
     "output_type": "stream",
     "text": [
      "(4145,)\n",
      "3\n"
     ]
    }
   ],
   "source": [
    "encoder.fit(y)\n",
    "y=encoder.transform(y)\n",
    "print(y.shape)\n",
    "print(y[5])"
   ]
  },
  {
   "cell_type": "code",
   "execution_count": 52,
   "id": "397ba4de",
   "metadata": {},
   "outputs": [
    {
     "data": {
      "text/plain": [
       "array(['Laying', 'Sitting', 'Standing', 'Walking'], dtype=object)"
      ]
     },
     "execution_count": 52,
     "metadata": {},
     "output_type": "execute_result"
    }
   ],
   "source": [
    "encoder.classes_"
   ]
  },
  {
   "cell_type": "code",
   "execution_count": 53,
   "id": "8d7e3c7c",
   "metadata": {},
   "outputs": [
    {
     "name": "stdout",
     "output_type": "stream",
     "text": [
      "[-1.65877016  1.8732549   1.6689563   0.8683372  -0.69699449 -0.68750756\n",
      "  0.60364712 -0.34740295         nan         nan         nan]\n"
     ]
    }
   ],
   "source": [
    "from sklearn.preprocessing import StandardScaler\n",
    "scaler=StandardScaler()\n",
    "x=scaler.fit_transform(x)\n",
    "print(x[5])"
   ]
  },
  {
   "cell_type": "code",
   "execution_count": 54,
   "id": "ebd919dc",
   "metadata": {},
   "outputs": [
    {
     "name": "stdout",
     "output_type": "stream",
     "text": [
      "(3316, 11) (829, 11) (3316,) (829,)\n"
     ]
    }
   ],
   "source": [
    "from sklearn.model_selection import train_test_split\n",
    "X_train,X_test,y_train,y_test=train_test_split(x,y,test_size=0.20,random_state=100)\n",
    "print(X_train.shape, X_test.shape, y_train.shape, y_test.shape)"
   ]
  },
  {
   "cell_type": "code",
   "execution_count": 55,
   "id": "1df9894f",
   "metadata": {},
   "outputs": [
    {
     "ename": "ValueError",
     "evalue": "Input X contains NaN.\nDecisionTreeClassifier does not accept missing values encoded as NaN natively. For supervised learning, you might want to consider sklearn.ensemble.HistGradientBoostingClassifier and Regressor which accept missing values encoded as NaNs natively. Alternatively, it is possible to preprocess the data, for instance by using an imputer transformer in a pipeline or drop samples with missing values. See https://scikit-learn.org/stable/modules/impute.html You can find a list of all estimators that handle NaN values at the following page: https://scikit-learn.org/stable/modules/impute.html#estimators-that-handle-nan-values",
     "output_type": "error",
     "traceback": [
      "\u001b[1;31m---------------------------------------------------------------------------\u001b[0m",
      "\u001b[1;31mValueError\u001b[0m                                Traceback (most recent call last)",
      "Input \u001b[1;32mIn [55]\u001b[0m, in \u001b[0;36m<cell line: 4>\u001b[1;34m()\u001b[0m\n\u001b[0;32m      1\u001b[0m \u001b[38;5;28;01mfrom\u001b[39;00m \u001b[38;5;21;01msklearn\u001b[39;00m\u001b[38;5;21;01m.\u001b[39;00m\u001b[38;5;21;01mtree\u001b[39;00m \u001b[38;5;28;01mimport\u001b[39;00m DecisionTreeClassifier\n\u001b[0;32m      3\u001b[0m dtc \u001b[38;5;241m=\u001b[39m DecisionTreeClassifier()\n\u001b[1;32m----> 4\u001b[0m \u001b[43mdtc\u001b[49m\u001b[38;5;241;43m.\u001b[39;49m\u001b[43mfit\u001b[49m\u001b[43m(\u001b[49m\u001b[43mx\u001b[49m\u001b[43m,\u001b[49m\u001b[43m \u001b[49m\u001b[43my\u001b[49m\u001b[43m)\u001b[49m\n",
      "File \u001b[1;32mC:\\Python310\\lib\\site-packages\\sklearn\\tree\\_classes.py:969\u001b[0m, in \u001b[0;36mDecisionTreeClassifier.fit\u001b[1;34m(self, X, y, sample_weight, check_input)\u001b[0m\n\u001b[0;32m    939\u001b[0m \u001b[38;5;28;01mdef\u001b[39;00m \u001b[38;5;21mfit\u001b[39m(\u001b[38;5;28mself\u001b[39m, X, y, sample_weight\u001b[38;5;241m=\u001b[39m\u001b[38;5;28;01mNone\u001b[39;00m, check_input\u001b[38;5;241m=\u001b[39m\u001b[38;5;28;01mTrue\u001b[39;00m):\n\u001b[0;32m    940\u001b[0m     \u001b[38;5;124;03m\"\"\"Build a decision tree classifier from the training set (X, y).\u001b[39;00m\n\u001b[0;32m    941\u001b[0m \n\u001b[0;32m    942\u001b[0m \u001b[38;5;124;03m    Parameters\u001b[39;00m\n\u001b[1;32m   (...)\u001b[0m\n\u001b[0;32m    966\u001b[0m \u001b[38;5;124;03m        Fitted estimator.\u001b[39;00m\n\u001b[0;32m    967\u001b[0m \u001b[38;5;124;03m    \"\"\"\u001b[39;00m\n\u001b[1;32m--> 969\u001b[0m     \u001b[38;5;28;43msuper\u001b[39;49m\u001b[43m(\u001b[49m\u001b[43m)\u001b[49m\u001b[38;5;241;43m.\u001b[39;49m\u001b[43mfit\u001b[49m\u001b[43m(\u001b[49m\n\u001b[0;32m    970\u001b[0m \u001b[43m        \u001b[49m\u001b[43mX\u001b[49m\u001b[43m,\u001b[49m\n\u001b[0;32m    971\u001b[0m \u001b[43m        \u001b[49m\u001b[43my\u001b[49m\u001b[43m,\u001b[49m\n\u001b[0;32m    972\u001b[0m \u001b[43m        \u001b[49m\u001b[43msample_weight\u001b[49m\u001b[38;5;241;43m=\u001b[39;49m\u001b[43msample_weight\u001b[49m\u001b[43m,\u001b[49m\n\u001b[0;32m    973\u001b[0m \u001b[43m        \u001b[49m\u001b[43mcheck_input\u001b[49m\u001b[38;5;241;43m=\u001b[39;49m\u001b[43mcheck_input\u001b[49m\u001b[43m,\u001b[49m\n\u001b[0;32m    974\u001b[0m \u001b[43m    \u001b[49m\u001b[43m)\u001b[49m\n\u001b[0;32m    975\u001b[0m     \u001b[38;5;28;01mreturn\u001b[39;00m \u001b[38;5;28mself\u001b[39m\n",
      "File \u001b[1;32mC:\\Python310\\lib\\site-packages\\sklearn\\tree\\_classes.py:172\u001b[0m, in \u001b[0;36mBaseDecisionTree.fit\u001b[1;34m(self, X, y, sample_weight, check_input)\u001b[0m\n\u001b[0;32m    170\u001b[0m check_X_params \u001b[38;5;241m=\u001b[39m \u001b[38;5;28mdict\u001b[39m(dtype\u001b[38;5;241m=\u001b[39mDTYPE, accept_sparse\u001b[38;5;241m=\u001b[39m\u001b[38;5;124m\"\u001b[39m\u001b[38;5;124mcsc\u001b[39m\u001b[38;5;124m\"\u001b[39m)\n\u001b[0;32m    171\u001b[0m check_y_params \u001b[38;5;241m=\u001b[39m \u001b[38;5;28mdict\u001b[39m(ensure_2d\u001b[38;5;241m=\u001b[39m\u001b[38;5;28;01mFalse\u001b[39;00m, dtype\u001b[38;5;241m=\u001b[39m\u001b[38;5;28;01mNone\u001b[39;00m)\n\u001b[1;32m--> 172\u001b[0m X, y \u001b[38;5;241m=\u001b[39m \u001b[38;5;28;43mself\u001b[39;49m\u001b[38;5;241;43m.\u001b[39;49m\u001b[43m_validate_data\u001b[49m\u001b[43m(\u001b[49m\n\u001b[0;32m    173\u001b[0m \u001b[43m    \u001b[49m\u001b[43mX\u001b[49m\u001b[43m,\u001b[49m\u001b[43m \u001b[49m\u001b[43my\u001b[49m\u001b[43m,\u001b[49m\u001b[43m \u001b[49m\u001b[43mvalidate_separately\u001b[49m\u001b[38;5;241;43m=\u001b[39;49m\u001b[43m(\u001b[49m\u001b[43mcheck_X_params\u001b[49m\u001b[43m,\u001b[49m\u001b[43m \u001b[49m\u001b[43mcheck_y_params\u001b[49m\u001b[43m)\u001b[49m\n\u001b[0;32m    174\u001b[0m \u001b[43m\u001b[49m\u001b[43m)\u001b[49m\n\u001b[0;32m    175\u001b[0m \u001b[38;5;28;01mif\u001b[39;00m issparse(X):\n\u001b[0;32m    176\u001b[0m     X\u001b[38;5;241m.\u001b[39msort_indices()\n",
      "File \u001b[1;32mC:\\Python310\\lib\\site-packages\\sklearn\\base.py:591\u001b[0m, in \u001b[0;36mBaseEstimator._validate_data\u001b[1;34m(self, X, y, reset, validate_separately, **check_params)\u001b[0m\n\u001b[0;32m    589\u001b[0m \u001b[38;5;28;01mif\u001b[39;00m \u001b[38;5;124m\"\u001b[39m\u001b[38;5;124mestimator\u001b[39m\u001b[38;5;124m\"\u001b[39m \u001b[38;5;129;01mnot\u001b[39;00m \u001b[38;5;129;01min\u001b[39;00m check_X_params:\n\u001b[0;32m    590\u001b[0m     check_X_params \u001b[38;5;241m=\u001b[39m {\u001b[38;5;241m*\u001b[39m\u001b[38;5;241m*\u001b[39mdefault_check_params, \u001b[38;5;241m*\u001b[39m\u001b[38;5;241m*\u001b[39mcheck_X_params}\n\u001b[1;32m--> 591\u001b[0m X \u001b[38;5;241m=\u001b[39m check_array(X, input_name\u001b[38;5;241m=\u001b[39m\u001b[38;5;124m\"\u001b[39m\u001b[38;5;124mX\u001b[39m\u001b[38;5;124m\"\u001b[39m, \u001b[38;5;241m*\u001b[39m\u001b[38;5;241m*\u001b[39mcheck_X_params)\n\u001b[0;32m    592\u001b[0m \u001b[38;5;28;01mif\u001b[39;00m \u001b[38;5;124m\"\u001b[39m\u001b[38;5;124mestimator\u001b[39m\u001b[38;5;124m\"\u001b[39m \u001b[38;5;129;01mnot\u001b[39;00m \u001b[38;5;129;01min\u001b[39;00m check_y_params:\n\u001b[0;32m    593\u001b[0m     check_y_params \u001b[38;5;241m=\u001b[39m {\u001b[38;5;241m*\u001b[39m\u001b[38;5;241m*\u001b[39mdefault_check_params, \u001b[38;5;241m*\u001b[39m\u001b[38;5;241m*\u001b[39mcheck_y_params}\n",
      "File \u001b[1;32mC:\\Python310\\lib\\site-packages\\sklearn\\utils\\validation.py:899\u001b[0m, in \u001b[0;36mcheck_array\u001b[1;34m(array, accept_sparse, accept_large_sparse, dtype, order, copy, force_all_finite, ensure_2d, allow_nd, ensure_min_samples, ensure_min_features, estimator, input_name)\u001b[0m\n\u001b[0;32m    893\u001b[0m         \u001b[38;5;28;01mraise\u001b[39;00m \u001b[38;5;167;01mValueError\u001b[39;00m(\n\u001b[0;32m    894\u001b[0m             \u001b[38;5;124m\"\u001b[39m\u001b[38;5;124mFound array with dim \u001b[39m\u001b[38;5;132;01m%d\u001b[39;00m\u001b[38;5;124m. \u001b[39m\u001b[38;5;132;01m%s\u001b[39;00m\u001b[38;5;124m expected <= 2.\u001b[39m\u001b[38;5;124m\"\u001b[39m\n\u001b[0;32m    895\u001b[0m             \u001b[38;5;241m%\u001b[39m (array\u001b[38;5;241m.\u001b[39mndim, estimator_name)\n\u001b[0;32m    896\u001b[0m         )\n\u001b[0;32m    898\u001b[0m     \u001b[38;5;28;01mif\u001b[39;00m force_all_finite:\n\u001b[1;32m--> 899\u001b[0m         \u001b[43m_assert_all_finite\u001b[49m\u001b[43m(\u001b[49m\n\u001b[0;32m    900\u001b[0m \u001b[43m            \u001b[49m\u001b[43marray\u001b[49m\u001b[43m,\u001b[49m\n\u001b[0;32m    901\u001b[0m \u001b[43m            \u001b[49m\u001b[43minput_name\u001b[49m\u001b[38;5;241;43m=\u001b[39;49m\u001b[43minput_name\u001b[49m\u001b[43m,\u001b[49m\n\u001b[0;32m    902\u001b[0m \u001b[43m            \u001b[49m\u001b[43mestimator_name\u001b[49m\u001b[38;5;241;43m=\u001b[39;49m\u001b[43mestimator_name\u001b[49m\u001b[43m,\u001b[49m\n\u001b[0;32m    903\u001b[0m \u001b[43m            \u001b[49m\u001b[43mallow_nan\u001b[49m\u001b[38;5;241;43m=\u001b[39;49m\u001b[43mforce_all_finite\u001b[49m\u001b[43m \u001b[49m\u001b[38;5;241;43m==\u001b[39;49m\u001b[43m \u001b[49m\u001b[38;5;124;43m\"\u001b[39;49m\u001b[38;5;124;43mallow-nan\u001b[39;49m\u001b[38;5;124;43m\"\u001b[39;49m\u001b[43m,\u001b[49m\n\u001b[0;32m    904\u001b[0m \u001b[43m        \u001b[49m\u001b[43m)\u001b[49m\n\u001b[0;32m    906\u001b[0m \u001b[38;5;28;01mif\u001b[39;00m ensure_min_samples \u001b[38;5;241m>\u001b[39m \u001b[38;5;241m0\u001b[39m:\n\u001b[0;32m    907\u001b[0m     n_samples \u001b[38;5;241m=\u001b[39m _num_samples(array)\n",
      "File \u001b[1;32mC:\\Python310\\lib\\site-packages\\sklearn\\utils\\validation.py:146\u001b[0m, in \u001b[0;36m_assert_all_finite\u001b[1;34m(X, allow_nan, msg_dtype, estimator_name, input_name)\u001b[0m\n\u001b[0;32m    124\u001b[0m         \u001b[38;5;28;01mif\u001b[39;00m (\n\u001b[0;32m    125\u001b[0m             \u001b[38;5;129;01mnot\u001b[39;00m allow_nan\n\u001b[0;32m    126\u001b[0m             \u001b[38;5;129;01mand\u001b[39;00m estimator_name\n\u001b[1;32m   (...)\u001b[0m\n\u001b[0;32m    130\u001b[0m             \u001b[38;5;66;03m# Improve the error message on how to handle missing values in\u001b[39;00m\n\u001b[0;32m    131\u001b[0m             \u001b[38;5;66;03m# scikit-learn.\u001b[39;00m\n\u001b[0;32m    132\u001b[0m             msg_err \u001b[38;5;241m+\u001b[39m\u001b[38;5;241m=\u001b[39m (\n\u001b[0;32m    133\u001b[0m                 \u001b[38;5;124mf\u001b[39m\u001b[38;5;124m\"\u001b[39m\u001b[38;5;130;01m\\n\u001b[39;00m\u001b[38;5;132;01m{\u001b[39;00mestimator_name\u001b[38;5;132;01m}\u001b[39;00m\u001b[38;5;124m does not accept missing values\u001b[39m\u001b[38;5;124m\"\u001b[39m\n\u001b[0;32m    134\u001b[0m                 \u001b[38;5;124m\"\u001b[39m\u001b[38;5;124m encoded as NaN natively. For supervised learning, you might want\u001b[39m\u001b[38;5;124m\"\u001b[39m\n\u001b[1;32m   (...)\u001b[0m\n\u001b[0;32m    144\u001b[0m                 \u001b[38;5;124m\"\u001b[39m\u001b[38;5;124m#estimators-that-handle-nan-values\u001b[39m\u001b[38;5;124m\"\u001b[39m\n\u001b[0;32m    145\u001b[0m             )\n\u001b[1;32m--> 146\u001b[0m         \u001b[38;5;28;01mraise\u001b[39;00m \u001b[38;5;167;01mValueError\u001b[39;00m(msg_err)\n\u001b[0;32m    148\u001b[0m \u001b[38;5;66;03m# for object dtype data, we only check for NaNs (GH-13254)\u001b[39;00m\n\u001b[0;32m    149\u001b[0m \u001b[38;5;28;01melif\u001b[39;00m X\u001b[38;5;241m.\u001b[39mdtype \u001b[38;5;241m==\u001b[39m np\u001b[38;5;241m.\u001b[39mdtype(\u001b[38;5;124m\"\u001b[39m\u001b[38;5;124mobject\u001b[39m\u001b[38;5;124m\"\u001b[39m) \u001b[38;5;129;01mand\u001b[39;00m \u001b[38;5;129;01mnot\u001b[39;00m allow_nan:\n",
      "\u001b[1;31mValueError\u001b[0m: Input X contains NaN.\nDecisionTreeClassifier does not accept missing values encoded as NaN natively. For supervised learning, you might want to consider sklearn.ensemble.HistGradientBoostingClassifier and Regressor which accept missing values encoded as NaNs natively. Alternatively, it is possible to preprocess the data, for instance by using an imputer transformer in a pipeline or drop samples with missing values. See https://scikit-learn.org/stable/modules/impute.html You can find a list of all estimators that handle NaN values at the following page: https://scikit-learn.org/stable/modules/impute.html#estimators-that-handle-nan-values"
     ]
    }
   ],
   "source": [
    "from sklearn.tree import DecisionTreeClassifier\n",
    "\n",
    "dtc = DecisionTreeClassifier()\n",
    "dtc.fit(x, y)"
   ]
  },
  {
   "cell_type": "code",
   "execution_count": null,
   "id": "40c36767",
   "metadata": {},
   "outputs": [],
   "source": []
  }
 ],
 "metadata": {
  "kernelspec": {
   "display_name": "Python 3 (ipykernel)",
   "language": "python",
   "name": "python3"
  },
  "language_info": {
   "codemirror_mode": {
    "name": "ipython",
    "version": 3
   },
   "file_extension": ".py",
   "mimetype": "text/x-python",
   "name": "python",
   "nbconvert_exporter": "python",
   "pygments_lexer": "ipython3",
   "version": "3.10.5"
  }
 },
 "nbformat": 4,
 "nbformat_minor": 5
}
